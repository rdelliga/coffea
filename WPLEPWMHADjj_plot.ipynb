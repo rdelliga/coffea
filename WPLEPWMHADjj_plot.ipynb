{
 "cells": [
  {
   "cell_type": "code",
   "execution_count": 2,
   "metadata": {},
   "outputs": [
    {
     "data": {
      "text/plain": [
       "['GenVisTau',\n",
       " 'L1Reco',\n",
       " 'LHEPart',\n",
       " 'SoftActivityJetHT10',\n",
       " 'Muon',\n",
       " 'LowPtElectron',\n",
       " 'HLT',\n",
       " 'fixedGridRhoFastjetCentralChargedPileUp',\n",
       " 'DeepMETResolutionTune',\n",
       " 'event',\n",
       " 'RawPuppiMET',\n",
       " 'ChsMET',\n",
       " 'GenJet',\n",
       " 'SoftActivityJetNjets2',\n",
       " 'HLTriggerFirstPath',\n",
       " 'L1',\n",
       " 'HLTriggerFinalPath',\n",
       " 'Generator',\n",
       " 'SoftActivityJet',\n",
       " 'Pileup',\n",
       " 'GenMET',\n",
       " 'TrigObj',\n",
       " 'SV',\n",
       " 'Photon',\n",
       " 'boostedTau',\n",
       " 'GenVtx',\n",
       " 'L1simulation',\n",
       " 'fixedGridRhoFastjetCentral',\n",
       " 'genWeight',\n",
       " 'fixedGridRhoFastjetAll',\n",
       " 'PuppiMET',\n",
       " 'luminosityBlock',\n",
       " 'MET',\n",
       " 'FatJet',\n",
       " 'genTtbarId',\n",
       " 'IsoTrack',\n",
       " 'LHE',\n",
       " 'TkMET',\n",
       " 'SoftActivityJetHT5',\n",
       " 'LHEWeight',\n",
       " 'GenJetAK8',\n",
       " 'Electron',\n",
       " 'HTXS',\n",
       " 'fixedGridRhoFastjetCentralCalo',\n",
       " 'CorrT1METJet',\n",
       " 'LHEReweightingWeight',\n",
       " 'OtherPV',\n",
       " 'GenDressedLepton',\n",
       " 'L1PreFiringWeight',\n",
       " 'Flag',\n",
       " 'Tau',\n",
       " 'SubGenJetAK8',\n",
       " 'DeepMETResponseTune',\n",
       " 'SoftActivityJetHT',\n",
       " 'FsrPhoton',\n",
       " 'SoftActivityJetHT2',\n",
       " 'PV',\n",
       " 'GenPart',\n",
       " 'CaloMET',\n",
       " 'LHEPdfWeight',\n",
       " 'GenIsolatedPhoton',\n",
       " 'Jet',\n",
       " 'RawMET',\n",
       " 'SoftActivityJetNjets5',\n",
       " 'btagWeight',\n",
       " 'SoftActivityJetNjets10',\n",
       " 'SubJet',\n",
       " 'run',\n",
       " 'PSWeight',\n",
       " 'fixedGridRhoFastjetCentralNeutral',\n",
       " 'LHEScaleWeight']"
      ]
     },
     "execution_count": 2,
     "metadata": {},
     "output_type": "execute_result"
    }
   ],
   "source": [
    "import uproot\n",
    "import awkward as ak #The events object is an awkward array\n",
    "## Plotting.\n",
    "import matplotlib.pyplot as plt\n",
    "\n",
    "# Hists\n",
    "import hist\n",
    "from hist import Hist\n",
    "\n",
    "# NanoEvents\n",
    "from coffea.nanoevents import NanoEventsFactory, NanoAODSchema\n",
    "# Processors\n",
    "#import coffea.processor as processor\n",
    "\n",
    "#File to read\n",
    "fname='WPLEPWMHADjj_4f_EWK_UL2018-NANOAODSIMv9.root'\n",
    "\n",
    "#Define the events\n",
    "events = NanoEventsFactory.from_root(\n",
    "    fname,\n",
    "    schemaclass=NanoAODSchema,\n",
    ").events()\n",
    "\n",
    "#List the branches of the root file \n",
    "ak.fields(events)"
   ]
  },
  {
   "cell_type": "code",
   "execution_count": 94,
   "metadata": {},
   "outputs": [
    {
     "data": {
      "text/plain": [
       "Text(0.5, 1.0, 'MET distribution')"
      ]
     },
     "execution_count": 94,
     "metadata": {},
     "output_type": "execute_result"
    },
    {
     "data": {
      "image/png": "[encoded data removed]",
      "text/plain": [
       "<Figure size 432x288 with 1 Axes>"
      ]
     },
     "metadata": {
      "needs_background": "light"
     },
     "output_type": "display_data"
    }
   ],
   "source": [
    "#Take the MET and plot its histogram\n",
    "MET = events.MET.pt\n",
    "MET_hist = plt.hist(MET, bins=20, range=[0,500], label=\"$E_{T}^{miss}$ [GeV]\")\n",
    "plt.xlabel(\"$E_{T}^{miss}$ [GeV]\")\n",
    "plt.ylabel(\"counts\")\n",
    "plt.title(\"MET distribution\")\n",
    "#plt.legend()\n",
    "\n",
    "#Make histogram\n",
    "#MET_hist=hist.Hist.new.Reg(20, 0, 500, name=\"MET\", label=\"$E_{T}^{miss}$ [GeV]\")\n",
    "#Fill and plot histogram\n",
    "#MET_hist.Double().fill(MET).plot1d()"
   ]
  },
  {
   "cell_type": "code",
   "execution_count": 3,
   "metadata": {},
   "outputs": [
    {
     "data": {
      "text/plain": [
       "Text(0.5, 1.0, 'muon $p_{T}$ distribution')"
      ]
     },
     "execution_count": 3,
     "metadata": {},
     "output_type": "execute_result"
    },
    {
     "data": {
      "image/png": "[encoded data removed]",
      "text/plain": [
       "<Figure size 432x288 with 1 Axes>"
      ]
     },
     "metadata": {
      "needs_background": "light"
     },
     "output_type": "display_data"
    }
   ],
   "source": [
    "#Take the muon pt and plot its histogram\n",
    "muonpt = events.Muon.pt\n",
    "muon_hist = plt.hist(ak.flatten(muonpt), bins=20, range=[0,100], label=\"$p_{T}^{\\mu}$ [GeV]\")\n",
    "#previous line: you have to flatten the awkward array because its size is ambiguous due to variable-length arrays \n",
    "plt.xlabel(\"$p_{T}^{\\mu}$ [GeV]\")\n",
    "plt.ylabel(\"counts\")\n",
    "plt.title(\"muon $p_{T}$ distribution\")\n",
    "#plt.legend()\n"
   ]
  },
  {
   "cell_type": "code",
   "execution_count": 121,
   "metadata": {},
   "outputs": [
    {
     "data": {
      "text/plain": [
       "Text(0.5, 1.0, 'electron $p_{T}$ distribution')"
      ]
     },
     "execution_count": 121,
     "metadata": {},
     "output_type": "execute_result"
    },
    {
     "data": {
      "image/png": "[encoded data removed]",
      "text/plain": [
       "<Figure size 432x288 with 1 Axes>"
      ]
     },
     "metadata": {
      "needs_background": "light"
     },
     "output_type": "display_data"
    }
   ],
   "source": [
    "#Take the electron pt and plot its histogram\n",
    "ept = events.Electron.pt\n",
    "e_hist = plt.hist(ak.flatten(ept), bins=20, range=[0,50], label=\"$p_{T}^{e}$ [GeV]\")\n",
    "#previous line: you have to flatten the awkward array because its size is ambiguous due to variable-length arrays\n",
    "plt.xlabel(\"$p_{T}^{e}$ [GeV]\")\n",
    "plt.ylabel(\"counts\")\n",
    "plt.title(\"electron $p_{T}$ distribution\")\n",
    "#plt.legend()"
   ]
  },
  {
   "cell_type": "code",
   "execution_count": 9,
   "metadata": {},
   "outputs": [
    {
     "data": {
      "text/plain": [
       "Text(0.5, 1.0, 'jet $p_{T}$ distribution')"
      ]
     },
     "execution_count": 9,
     "metadata": {},
     "output_type": "execute_result"
    },
    {
     "data": {
      "image/png": "[encoded data removed]",
      "text/plain": [
       "<Figure size 432x288 with 1 Axes>"
      ]
     },
     "metadata": {
      "needs_background": "light"
     },
     "output_type": "display_data"
    }
   ],
   "source": [
    "#Take the jet pt and plot its histogram\n",
    "jpt = events.Jet.pt\n",
    "jpt_hist = plt.hist(ak.flatten(jpt), bins=50, range=[0,150], label=\"$p_{T}^{j}$ [GeV]\")\n",
    "#previous line: you have to flatten the awkward array because its size is ambiguous due to variable-length arrays\n",
    "plt.xlabel(\"$p_{T}^{j}$ [GeV]\")\n",
    "plt.ylabel(\"counts\")\n",
    "plt.title(\"jet $p_{T}$ distribution\")\n",
    "#plt.legend()"
   ]
  },
  {
   "cell_type": "code",
   "execution_count": 10,
   "metadata": {
    "scrolled": true
   },
   "outputs": [
    {
     "data": {
      "text/plain": [
       "Text(0.5, 1.0, 'jet pseudorapidity distribution')"
      ]
     },
     "execution_count": 10,
     "metadata": {},
     "output_type": "execute_result"
    },
    {
     "data": {
      "image/png": "[encoded data removed]",
      "text/plain": [
       "<Figure size 432x288 with 1 Axes>"
      ]
     },
     "metadata": {
      "needs_background": "light"
     },
     "output_type": "display_data"
    }
   ],
   "source": [
    "#Take the jet pseudorapidity and plot its histogram\n",
    "jeta = events.Jet.eta\n",
    "jeta_hist = plt.hist(ak.flatten(jeta), bins=20, range=[-5,5], label=\"$\\eta^{j}$ [GeV]\")\n",
    "#previous line: you have to flatten the awkward array because its size is ambiguous due to variable-length arrays\n",
    "plt.xlabel(\"$\\eta^{jet}$ [GeV]\")\n",
    "plt.ylabel(\"counts\")\n",
    "plt.title(\"jet pseudorapidity distribution\")\n",
    "#plt.legend()"
   ]
  },
  {
   "cell_type": "code",
   "execution_count": 16,
   "metadata": {},
   "outputs": [
    {
     "data": {
      "text/plain": [
       "Text(0.5, 1.0, 'jet mass distribution')"
      ]
     },
     "execution_count": 16,
     "metadata": {},
     "output_type": "execute_result"
    },
    {
     "data": {
      "image/png": "[encoded data removed]",
      "text/plain": [
       "<Figure size 432x288 with 1 Axes>"
      ]
     },
     "metadata": {
      "needs_background": "light"
     },
     "output_type": "display_data"
    }
   ],
   "source": [
    "#Take the jet mass and plot its histogram\n",
    "jm = events.Jet.mass\n",
    "jm_hist = plt.hist(ak.flatten(jm), bins=40, range=[0,100], label=\"$m^{j}$ [GeV]\")\n",
    "#previous line: you have to flatten the awkward array because its size is ambiguous due to variable-length arrays\n",
    "plt.xlabel(\"$m^{jet}$ [GeV]\")\n",
    "plt.ylabel(\"counts\")\n",
    "plt.title(\"jet mass distribution\")\n",
    "#plt.legend()"
   ]
  },
  {
   "cell_type": "code",
   "execution_count": null,
   "metadata": {},
   "outputs": [],
   "source": []
  }
 ],
 "metadata": {
  "kernelspec": {
   "display_name": "coffea_kernel",
   "language": "python",
   "name": "coffea_kernel"
  },
  "language_info": {
   "codemirror_mode": {
    "name": "ipython",
    "version": 3
   },
   "file_extension": ".py",
   "mimetype": "text/x-python",
   "name": "python",
   "nbconvert_exporter": "python",
   "pygments_lexer": "ipython3",
   "version": "3.6.8"
  }
 },
 "nbformat": 4,
 "nbformat_minor": 4
}
