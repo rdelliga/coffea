{
 "cells": [
  {
   "cell_type": "code",
   "execution_count": 1,
   "metadata": {},
   "outputs": [],
   "source": [
    "import uproot\n",
    "import awkward as ak #The events object is an awkward array\n",
    "## Plotting.\n",
    "import matplotlib.pyplot as plt\n",
    "\n",
    "# Hists\n",
    "import hist\n",
    "from hist import Hist\n",
    "\n",
    "# NanoEvents\n",
    "from coffea.nanoevents import NanoEventsFactory, NanoAODSchema\n",
    "# Processors\n",
    "#import coffea.processor as processor\n",
    "\n",
    "#File to read\n",
    "fname='WPLEPWMHADjj_4f_EWK_UL2018-NANOAODSIMv9.root'\n",
    "\n",
    "#Define the events\n",
    "events = NanoEventsFactory.from_root(\n",
    "    fname,\n",
    "    schemaclass=NanoAODSchema,\n",
    ").events()"
   ]
  },
  {
   "cell_type": "code",
   "execution_count": 2,
   "metadata": {},
   "outputs": [
    {
     "data": {
      "text/plain": [
       "['TkMET',\n",
       " 'fixedGridRhoFastjetCentralNeutral',\n",
       " 'L1',\n",
       " 'LHEReweightingWeight',\n",
       " 'LHEPdfWeight',\n",
       " 'DeepMETResolutionTune',\n",
       " 'btagWeight',\n",
       " 'SoftActivityJetHT2',\n",
       " 'DeepMETResponseTune',\n",
       " 'SoftActivityJetNjets5',\n",
       " 'L1Reco',\n",
       " 'luminosityBlock',\n",
       " 'Muon',\n",
       " 'LHE',\n",
       " 'boostedTau',\n",
       " 'GenIsolatedPhoton',\n",
       " 'SoftActivityJetHT10',\n",
       " 'FatJet',\n",
       " 'PV',\n",
       " 'event',\n",
       " 'ChsMET',\n",
       " 'PuppiMET',\n",
       " 'TrigObj',\n",
       " 'SoftActivityJetNjets10',\n",
       " 'HLTriggerFirstPath',\n",
       " 'PSWeight',\n",
       " 'L1PreFiringWeight',\n",
       " 'RawPuppiMET',\n",
       " 'OtherPV',\n",
       " 'Photon',\n",
       " 'fixedGridRhoFastjetCentralChargedPileUp',\n",
       " 'GenJet',\n",
       " 'HTXS',\n",
       " 'GenJetAK8',\n",
       " 'fixedGridRhoFastjetAll',\n",
       " 'GenMET',\n",
       " 'GenVisTau',\n",
       " 'SubGenJetAK8',\n",
       " 'HLTriggerFinalPath',\n",
       " 'RawMET',\n",
       " 'Jet',\n",
       " 'CorrT1METJet',\n",
       " 'fixedGridRhoFastjetCentralCalo',\n",
       " 'CaloMET',\n",
       " 'SoftActivityJet',\n",
       " 'SoftActivityJetHT5',\n",
       " 'run',\n",
       " 'Tau',\n",
       " 'MET',\n",
       " 'HLT',\n",
       " 'LHEPart',\n",
       " 'Pileup',\n",
       " 'SV',\n",
       " 'L1simulation',\n",
       " 'FsrPhoton',\n",
       " 'IsoTrack',\n",
       " 'GenPart',\n",
       " 'genTtbarId',\n",
       " 'GenVtx',\n",
       " 'LHEScaleWeight',\n",
       " 'Generator',\n",
       " 'Flag',\n",
       " 'SubJet',\n",
       " 'SoftActivityJetNjets2',\n",
       " 'SoftActivityJetHT',\n",
       " 'fixedGridRhoFastjetCentral',\n",
       " 'genWeight',\n",
       " 'Electron',\n",
       " 'LHEWeight',\n",
       " 'LowPtElectron',\n",
       " 'GenDressedLepton']"
      ]
     },
     "execution_count": 2,
     "metadata": {},
     "output_type": "execute_result"
    }
   ],
   "source": [
    "#List the branches of the root file \n",
    "ak.fields(events)"
   ]
  },
  {
   "cell_type": "code",
   "execution_count": 131,
   "metadata": {},
   "outputs": [
    {
     "data": {
      "text/plain": [
       "['dxy',\n",
       " 'dxyErr',\n",
       " 'dxybs',\n",
       " 'dz',\n",
       " 'dzErr',\n",
       " 'eta',\n",
       " 'ip3d',\n",
       " 'jetPtRelv2',\n",
       " 'jetRelIso',\n",
       " 'mass',\n",
       " 'miniPFRelIso_all',\n",
       " 'miniPFRelIso_chg',\n",
       " 'pfRelIso03_all',\n",
       " 'pfRelIso03_chg',\n",
       " 'pfRelIso04_all',\n",
       " 'phi',\n",
       " 'pt',\n",
       " 'ptErr',\n",
       " 'segmentComp',\n",
       " 'sip3d',\n",
       " 'softMva',\n",
       " 'tkRelIso',\n",
       " 'tunepRelPt',\n",
       " 'mvaLowPt',\n",
       " 'mvaTTH',\n",
       " 'charge',\n",
       " 'jetIdx',\n",
       " 'nStations',\n",
       " 'nTrackerLayers',\n",
       " 'pdgId',\n",
       " 'tightCharge',\n",
       " 'fsrPhotonIdx',\n",
       " 'highPtId',\n",
       " 'highPurity',\n",
       " 'inTimeMuon',\n",
       " 'isGlobal',\n",
       " 'isPFcand',\n",
       " 'isStandalone',\n",
       " 'isTracker',\n",
       " 'jetNDauCharged',\n",
       " 'looseId',\n",
       " 'mediumId',\n",
       " 'mediumPromptId',\n",
       " 'miniIsoId',\n",
       " 'multiIsoId',\n",
       " 'mvaId',\n",
       " 'mvaLowPtId',\n",
       " 'pfIsoId',\n",
       " 'puppiIsoId',\n",
       " 'softId',\n",
       " 'softMvaId',\n",
       " 'tightId',\n",
       " 'tkIsoId',\n",
       " 'triggerIdLoose',\n",
       " 'genPartIdx',\n",
       " 'genPartFlav',\n",
       " 'cleanmask',\n",
       " 'fsrPhotonIdxG',\n",
       " 'genPartIdxG',\n",
       " 'jetIdxG']"
      ]
     },
     "execution_count": 131,
     "metadata": {},
     "output_type": "execute_result"
    }
   ],
   "source": [
    "#List the metods of the branches\n",
    "#ak.fields(events.Jet)\n",
    "ak.fields(events.Muon)"
   ]
  },
  {
   "cell_type": "code",
   "execution_count": 10,
   "metadata": {},
   "outputs": [
    {
     "data": {
      "text/plain": [
       "Text(0.5, 1.0, 'MET distribution')"
      ]
     },
     "execution_count": 10,
     "metadata": {},
     "output_type": "execute_result"
    },
    {
     "data": {
      "image/png": "[encoded data removed]",
      "text/plain": [
       "<Figure size 432x288 with 1 Axes>"
      ]
     },
     "metadata": {
      "needs_background": "light"
     },
     "output_type": "display_data"
    }
   ],
   "source": [
    "#Take the MET and plot its histogram\n",
    "MET = events.MET.pt\n",
    "plt.hist(MET, bins=20, range=[0,500], label=\"$E_{T}^{miss}$ [GeV]\")\n",
    "plt.xlabel(\"$E_{T}^{miss}$ [GeV]\")\n",
    "plt.ylabel(\"counts\")\n",
    "plt.title(\"MET distribution\")\n",
    "#plt.legend()\n",
    "\n",
    "#Make histogram\n",
    "#MET_hist=hist.Hist.new.Reg(20, 0, 500, name=\"MET\", label=\"$E_{T}^{miss}$ [GeV]\")\n",
    "#Fill and plot histogram\n",
    "#MET_hist.Double().fill(MET).plot1d()"
   ]
  },
  {
   "cell_type": "code",
   "execution_count": 11,
   "metadata": {},
   "outputs": [
    {
     "data": {
      "text/plain": [
       "Text(0.5, 1.0, 'muon $p_{T}$ distribution')"
      ]
     },
     "execution_count": 11,
     "metadata": {},
     "output_type": "execute_result"
    },
    {
     "data": {
      "image/png": "[encoded data removed]",
      "text/plain": [
       "<Figure size 432x288 with 1 Axes>"
      ]
     },
     "metadata": {
      "needs_background": "light"
     },
     "output_type": "display_data"
    }
   ],
   "source": [
    "#Take the muon pt and plot its histogram\n",
    "muonpt = events.Muon.pt\n",
    "plt.hist(ak.flatten(muonpt), bins=20, range=[0,100], label=\"$p_{T}^{\\mu}$ [GeV]\")\n",
    "#previous line: you have to flatten the awkward array because its size is ambiguous due to variable-length arrays \n",
    "plt.xlabel(\"$p_{T}^{\\mu}$ [GeV]\")\n",
    "plt.ylabel(\"counts\")\n",
    "plt.title(\"muon $p_{T}$ distribution\")\n",
    "#plt.legend()\n"
   ]
  },
  {
   "cell_type": "code",
   "execution_count": 118,
   "metadata": {},
   "outputs": [
    {
     "data": {
      "text/plain": [
       "Text(0.5, 1.0, 'electron $p_{T}$ distribution')"
      ]
     },
     "execution_count": 118,
     "metadata": {},
     "output_type": "execute_result"
    },
    {
     "data": {
      "image/png": "[encoded data removed]",
      "text/plain": [
       "<Figure size 432x288 with 1 Axes>"
      ]
     },
     "metadata": {
      "needs_background": "light"
     },
     "output_type": "display_data"
    }
   ],
   "source": [
    "#Take the electron pt and plot its histogram\n",
    "ept = events.Electron.pt\n",
    "plt.hist(ak.flatten(ept), bins=20, range=[-5,55], label=\"$p_{T}^{e}$ [GeV]\")\n",
    "#previous line: you have to flatten the awkward array because its size is ambiguous due to variable-length arrays\n",
    "plt.xlabel(\"$p_{T}^{e}$ [GeV]\")\n",
    "plt.ylabel(\"counts\")\n",
    "plt.title(\"electron $p_{T}$ distribution\")\n",
    "#plt.legend()"
   ]
  },
  {
   "cell_type": "code",
   "execution_count": 13,
   "metadata": {},
   "outputs": [
    {
     "data": {
      "text/plain": [
       "Text(0.5, 1.0, 'jet $p_{T}$ distribution')"
      ]
     },
     "execution_count": 13,
     "metadata": {},
     "output_type": "execute_result"
    },
    {
     "data": {
      "image/png": "[encoded data removed]",
      "text/plain": [
       "<Figure size 432x288 with 1 Axes>"
      ]
     },
     "metadata": {
      "needs_background": "light"
     },
     "output_type": "display_data"
    }
   ],
   "source": [
    "#Take the jet pt and plot its histogram\n",
    "jpt = events.Jet.pt\n",
    "plt.hist(ak.flatten(jpt), bins=50, range=[0,150], label=\"$p_{T}^{jet}$ [GeV]\")\n",
    "#previous line: you have to flatten the awkward array because its size is ambiguous due to variable-length arrays\n",
    "plt.xlabel(\"$p_{T}^{jet}$ [GeV]\")\n",
    "plt.ylabel(\"counts\")\n",
    "plt.title(\"jet $p_{T}$ distribution\")\n",
    "#plt.legend()"
   ]
  },
  {
   "cell_type": "code",
   "execution_count": 14,
   "metadata": {
    "scrolled": true
   },
   "outputs": [
    {
     "data": {
      "text/plain": [
       "Text(0.5, 1.0, 'jet pseudorapidity distribution')"
      ]
     },
     "execution_count": 14,
     "metadata": {},
     "output_type": "execute_result"
    },
    {
     "data": {
      "image/png": "[encoded data removed]",
      "text/plain": [
       "<Figure size 432x288 with 1 Axes>"
      ]
     },
     "metadata": {
      "needs_background": "light"
     },
     "output_type": "display_data"
    }
   ],
   "source": [
    "#Take the jet pseudorapidity and plot its histogram\n",
    "jeta = events.Jet.eta\n",
    "plt.hist(ak.flatten(jeta), bins=20, range=[-5,5], label=\"$\\eta^{j}$ [GeV]\")\n",
    "#previous line: you have to flatten the awkward array because its size is ambiguous due to variable-length arrays\n",
    "plt.xlabel(\"$\\eta^{jet}$\")\n",
    "plt.ylabel(\"counts\")\n",
    "plt.title(\"jet pseudorapidity distribution\")\n",
    "#plt.legend()"
   ]
  },
  {
   "cell_type": "code",
   "execution_count": 15,
   "metadata": {},
   "outputs": [
    {
     "data": {
      "text/plain": [
       "Text(0.5, 1.0, 'jet mass distribution')"
      ]
     },
     "execution_count": 15,
     "metadata": {},
     "output_type": "execute_result"
    },
    {
     "data": {
      "image/png": "[encoded data removed]",
      "text/plain": [
       "<Figure size 432x288 with 1 Axes>"
      ]
     },
     "metadata": {
      "needs_background": "light"
     },
     "output_type": "display_data"
    }
   ],
   "source": [
    "#Take the jet mass and plot its histogram\n",
    "jm = events.Jet.mass\n",
    "plt.hist(ak.flatten(jm), bins=40, range=[0,50], label=\"$m^{j}$ [GeV]\")\n",
    "#previous line: you have to flatten the awkward array because its size is ambiguous due to variable-length arrays\n",
    "plt.xlabel(\"$m^{jet}$ [GeV]\")\n",
    "plt.ylabel(\"counts\")\n",
    "plt.title(\"jet mass distribution\")\n",
    "#plt.legend()"
   ]
  },
  {
   "cell_type": "code",
   "execution_count": 20,
   "metadata": {},
   "outputs": [
    {
     "data": {
      "text/plain": [
       "Text(0.5, 1.0, 'genjet $p_{T}$ distribution')"
      ]
     },
     "execution_count": 20,
     "metadata": {},
     "output_type": "execute_result"
    },
    {
     "data": {
      "image/png": "[encoded data removed]",
      "text/plain": [
       "<Figure size 432x288 with 1 Axes>"
      ]
     },
     "metadata": {
      "needs_background": "light"
     },
     "output_type": "display_data"
    }
   ],
   "source": [
    "#Take the genjet pt and plot its histogram\n",
    "gjpt = events.GenJet.pt\n",
    "plt.hist(ak.flatten(gjpt), bins=50, range=[0,150], label=\"$p_{T}^{jet}$ [GeV]\")\n",
    "#previous line: you have to flatten the awkward array because its size is ambiguous due to variable-length arrays\n",
    "plt.xlabel(\"$p_{T}^{jet}$ [GeV]\")\n",
    "plt.ylabel(\"counts\")\n",
    "plt.title(\"genjet $p_{T}$ distribution\")\n",
    "#plt.legend()"
   ]
  },
  {
   "cell_type": "code",
   "execution_count": 21,
   "metadata": {},
   "outputs": [
    {
     "data": {
      "text/plain": [
       "Text(0.5, 1.0, 'genjet pseudorapidity distribution')"
      ]
     },
     "execution_count": 21,
     "metadata": {},
     "output_type": "execute_result"
    },
    {
     "data": {
      "image/png": "[encoded data removed]",
      "text/plain": [
       "<Figure size 432x288 with 1 Axes>"
      ]
     },
     "metadata": {
      "needs_background": "light"
     },
     "output_type": "display_data"
    }
   ],
   "source": [
    "#Take the genjet pseudorapidity and plot its histogram\n",
    "gjeta = events.GenJet.eta\n",
    "plt.hist(ak.flatten(gjeta), bins=20, range=[-5,5], label=\"$\\eta^{j}$ [GeV]\")\n",
    "#previous line: you have to flatten the awkward array because its size is ambiguous due to variable-length arrays\n",
    "plt.xlabel(\"$\\eta^{jet}$\")\n",
    "plt.ylabel(\"counts\")\n",
    "plt.title(\"genjet pseudorapidity distribution\")\n",
    "#plt.legend()"
   ]
  },
  {
   "cell_type": "code",
   "execution_count": 22,
   "metadata": {},
   "outputs": [
    {
     "data": {
      "text/plain": [
       "Text(0.5, 1.0, 'genjet mass distribution')"
      ]
     },
     "execution_count": 22,
     "metadata": {},
     "output_type": "execute_result"
    },
    {
     "data": {
      "image/png": "[encoded data removed]",
      "text/plain": [
       "<Figure size 432x288 with 1 Axes>"
      ]
     },
     "metadata": {
      "needs_background": "light"
     },
     "output_type": "display_data"
    }
   ],
   "source": [
    "#Take the genjet mass and plot its histogram\n",
    "gjm = events.GenJet.mass\n",
    "plt.hist(ak.flatten(gjm), bins=40, range=[0,50], label=\"$m^{j}$ [GeV]\")\n",
    "#previous line: you have to flatten the awkward array because its size is ambiguous due to variable-length arrays\n",
    "plt.xlabel(\"$m^{jet}$ [GeV]\")\n",
    "plt.ylabel(\"counts\")\n",
    "plt.title(\"genjet mass distribution\")\n",
    "#plt.legend()"
   ]
  },
  {
   "cell_type": "code",
   "execution_count": 16,
   "metadata": {},
   "outputs": [
    {
     "data": {
      "text/plain": [
       "Text(0.5, 1.0, 'GenJetAK8 mass distribution')"
      ]
     },
     "execution_count": 16,
     "metadata": {},
     "output_type": "execute_result"
    },
    {
     "data": {
      "image/png": "[encoded data removed]",
      "text/plain": [
       "<Figure size 432x288 with 1 Axes>"
      ]
     },
     "metadata": {
      "needs_background": "light"
     },
     "output_type": "display_data"
    }
   ],
   "source": [
    "#Take the GenJetAK8 mass and plot its histogram\n",
    "gjm = events.GenJetAK8.mass\n",
    "plt.hist(ak.flatten(gjm), bins=40, range=[0,150], label=\"$m^{j}$ [GeV]\")\n",
    "#previous line: you have to flatten the awkward array because its size is ambiguous due to variable-length arrays\n",
    "plt.xlabel(\"$m^{jet}$ [GeV]\")\n",
    "plt.ylabel(\"counts\")\n",
    "plt.title(\"GenJetAK8 mass distribution\")\n",
    "#plt.legend()"
   ]
  },
  {
   "cell_type": "code",
   "execution_count": 17,
   "metadata": {},
   "outputs": [
    {
     "data": {
      "text/plain": [
       "Text(0.5, 1.0, 'fatjet mass distribution')"
      ]
     },
     "execution_count": 17,
     "metadata": {},
     "output_type": "execute_result"
    },
    {
     "data": {
      "image/png": "[encoded data removed]",
      "text/plain": [
       "<Figure size 432x288 with 1 Axes>"
      ]
     },
     "metadata": {
      "needs_background": "light"
     },
     "output_type": "display_data"
    }
   ],
   "source": [
    "#Take the fatjet mass and plot its histogram\n",
    "fjm = events.FatJet.mass\n",
    "plt.hist(ak.flatten(fjm), bins=40, range=[0,150], label=\"$m^{j}$ [GeV]\")\n",
    "#previous line: you have to flatten the awkward array because its size is ambiguous due to variable-length arrays\n",
    "plt.xlabel(\"$m^{jet}$ [GeV]\")\n",
    "plt.ylabel(\"counts\")\n",
    "plt.title(\"fatjet mass distribution\")\n",
    "#plt.legend()"
   ]
  },
  {
   "cell_type": "code",
   "execution_count": 113,
   "metadata": {},
   "outputs": [
    {
     "name": "stdout",
     "output_type": "stream",
     "text": [
      "[127, 43.6, 160, 107, 96, 147, 148, 104, ... 129, 122, 176, 40.5, 76.6, 90.2, 45.6]\n"
     ]
    }
   ],
   "source": [
    "#Take all the jets \n",
    "jets = events.Jet\n",
    "\n",
    "#Take the the jets with leading pT\n",
    "jets_l = events.Jet[:,0]\n",
    "#previous line: it means, for all the events, take the first jet\n",
    "print(events.Jet.pt[:,1])\n",
    "#plt.hist(jets_l.pt, bins=50, range=[0,150], label=\"$p_{T}^{jet}$ [GeV]\")\n",
    "\n",
    "#Take the jets with subleading pT\n",
    "jets_sub = events.Jet[:,1]\n",
    "#plt.hist(ak.flatten(jets_subleading.pt), bins=50, range=[0,150], label=\"$p_{T}^{jet}$ [GeV]\")"
   ]
  },
  {
   "cell_type": "code",
   "execution_count": 111,
   "metadata": {},
   "outputs": [
    {
     "data": {
      "text/plain": [
       "Text(0.5, 1.0, 'VBS dijet pseudorapidity distribution')"
      ]
     },
     "execution_count": 111,
     "metadata": {},
     "output_type": "execute_result"
    },
    {
     "data": {
      "image/png": "[encoded data removed]",
      "text/plain": [
       "<Figure size 432x288 with 1 Axes>"
      ]
     },
     "metadata": {
      "needs_background": "light"
     },
     "output_type": "display_data"
    }
   ],
   "source": [
    "#Take all the jets \n",
    "jets = events.Jet\n",
    "# Get all combinations of jet pairs in every event\n",
    "dijets = ak.combinations(jets, 2, fields=['i0', 'i1'])\n",
    "#print(dijets)\n",
    "#dijets.type\n",
    "\n",
    "# Check that jet pairs have the greatest mass\n",
    "ismax=(dijets['i0']+dijets['i1']).mass==ak.max((dijets['i0']+dijets['i1']).mass, axis=1)\n",
    "#previous line: returns a Boolean array with True where the condition is met, and false otherwise\n",
    "\n",
    "# Mask the dijets with the ismax to get dijets with the gratest mass\n",
    "good_dijets = dijets[ismax]\n",
    "\n",
    "# Separate pairs into arrays of the first and the second jet in each pair.\n",
    "first_jet, second_jet = ak.unzip(good_dijets)\n",
    "\n",
    "# Compute difference in pseudorapidity\n",
    "delta_eta = first_jet.eta - second_jet.eta\n",
    "\n",
    "# Plot\n",
    "plt.hist(ak.flatten(delta_eta), bins=20, range=[-5,5], label=\"$\\delta\\eta^{jj}$\")\n",
    "plt.xlabel(\"$\\eta^{jj}$\")\n",
    "plt.ylabel(\"counts\")\n",
    "plt.title(\"VBS dijet pseudorapidity distribution\")\n",
    "#plt.hist(ak.flatten((first_jet+second_jet).mass), bins=40, range=[0,5000], label=\"$m^{jj}$ [GeV]\")\n",
    "#plt.xlabel(\"$m^{jj}$ [GeV]\")\n",
    "#plt.ylabel(\"counts\")\n",
    "#plt.title(\"VBS dijet mass distribution\")\n",
    "#plt.legend()"
   ]
  },
  {
   "cell_type": "code",
   "execution_count": 115,
   "metadata": {},
   "outputs": [
    {
     "data": {
      "text/plain": [
       "<matplotlib.legend.Legend at 0x7f861f703048>"
      ]
     },
     "execution_count": 115,
     "metadata": {},
     "output_type": "execute_result"
    },
    {
     "data": {
      "image/png": "[encoded data removed]",
      "text/plain": [
       "<Figure size 432x288 with 1 Axes>"
      ]
     },
     "metadata": {
      "needs_background": "light"
     },
     "output_type": "display_data"
    }
   ],
   "source": [
    "#Take the fatjets\n",
    "fatjets = events.FatJet\n",
    "# Get only fatjets with mass between 65 and 95\n",
    "limits = ((fatjets.mass>65) & (fatjets.mass<95))\n",
    "#Get the variables of N-subjectiness\n",
    "good_fatjets=fatjets[limits]\n",
    "tau_1=good_fatjets.tau1\n",
    "tau_2=good_fatjets.tau2\n",
    "#Normalization factors\n",
    "norm_1 = ak.sum(ak.num(tau_1))\n",
    "norm_2 = ak.sum(ak.num(tau_2))\n",
    "\n",
    "#Plot two histograms together\n",
    "h = hist.Hist(hist.axis.StrCategory(name='channel', label='Channel', categories=['$t_{1}$', '$t_{2}$']), \n",
    "                      hist.axis.Regular(name='t', label='tau', bins=40, start= 0, stop=1))\n",
    "\n",
    "h.fill(channel='$t_{1}$', t=ak.flatten(tau_1), weight=1/norm_1)\n",
    "h.fill(channel='$t_{2}$', t=ak.flatten(tau_2), weight=1/norm_2)\n",
    "h.plot()\n",
    "plt.title(\"65 GeV < $m_{jet}$ < 95 GeV\")\n",
    "plt.xlabel(\"$t_{N}$\")\n",
    "plt.ylabel(\"relative occurrence\")\n",
    "plt.legend()"
   ]
  },
  {
   "cell_type": "code",
   "execution_count": 100,
   "metadata": {},
   "outputs": [
    {
     "data": {
      "text/plain": [
       "Text(0, 0.5, 'relative occurrence')"
      ]
     },
     "execution_count": 100,
     "metadata": {},
     "output_type": "execute_result"
    },
    {
     "data": {
      "image/png": "[encoded data removed]",
      "text/plain": [
       "<Figure size 432x288 with 1 Axes>"
      ]
     },
     "metadata": {
      "needs_background": "light"
     },
     "output_type": "display_data"
    }
   ],
   "source": [
    "#Take the tau2 to tau1 ratio\n",
    "tau_r=tau_2/tau_1\n",
    "#Normalization factor\n",
    "norm_r = ak.sum(ak.num(tau_r))\n",
    "#Plot the histogram\n",
    "h_r = Hist(hist.axis.Regular(40, 0, 1, name=\"$t_{r}$\", label=\"$t_{r}$\"))\n",
    "h_r.fill(ak.flatten(tau_r), weight=1/norm_r)\n",
    "h_r.plot()\n",
    "plt.title(\"65 GeV < $m_{jet}$ < 95 GeV\")\n",
    "plt.xlabel(\"$t_{2}/t_{1}$\")\n",
    "plt.ylabel(\"relative occurrence\")"
   ]
  },
  {
   "cell_type": "code",
   "execution_count": 110,
   "metadata": {},
   "outputs": [
    {
     "data": {
      "text/plain": [
       "<matplotlib.legend.Legend at 0x7f861f867400>"
      ]
     },
     "execution_count": 110,
     "metadata": {},
     "output_type": "execute_result"
    },
    {
     "data": {
      "image/png": "[encoded data removed]",
      "text/plain": [
       "<Figure size 432x288 with 1 Axes>"
      ]
     },
     "metadata": {
      "needs_background": "light"
     },
     "output_type": "display_data"
    }
   ],
   "source": [
    "#Take the fatjets\n",
    "fatjets = events.FatJet\n",
    "# Get only fatjets with mass between 65 and 95\n",
    "limits = ((fatjets.mass>65) & (fatjets.mass<95))\n",
    "#Get the variables of particleNet and deepTag\n",
    "good_fatjets=fatjets[limits]\n",
    "pNet=good_fatjets.particleNet_WvsQCD\n",
    "dTag=good_fatjets.deepTag_WvsQCD\n",
    "#Normalization factor\n",
    "norm_pNet = ak.sum(ak.num(pNet))\n",
    "norm_dTag = ak.sum(ak.num(dTag))\n",
    "\n",
    "#Plot two histograms together\n",
    "h = hist.Hist(hist.axis.StrCategory(name='channel', label='Channel', categories=['particleNet', 'deepTag']), \n",
    "                      hist.axis.Regular(name='WvsQCD', label='WvsQCD', bins=40, start= 0, stop=1))\n",
    "\n",
    "h.fill(channel='particleNet', WvsQCD=ak.flatten(pNet), weight=1/norm_pNet)\n",
    "h.fill(channel='deepTag', WvsQCD=ak.flatten(dTag), weight=1/norm_dTag)\n",
    "h.plot()\n",
    "plt.title(\"65 GeV < $m_{jet}$ < 95 GeV\")\n",
    "plt.xlabel(\"WvsQCD score\")\n",
    "plt.ylabel(\"relative occurrence\")\n",
    "plt.legend()"
   ]
  },
  {
   "cell_type": "code",
   "execution_count": null,
   "metadata": {},
   "outputs": [],
   "source": []
  }
 ],
 "metadata": {
  "kernelspec": {
   "display_name": "coffea_kernel",
   "language": "python",
   "name": "coffea_kernel"
  },
  "language_info": {
   "codemirror_mode": {
    "name": "ipython",
    "version": 3
   },
   "file_extension": ".py",
   "mimetype": "text/x-python",
   "name": "python",
   "nbconvert_exporter": "python",
   "pygments_lexer": "ipython3",
   "version": "3.6.8"
  }
 },
 "nbformat": 4,
 "nbformat_minor": 4
}
