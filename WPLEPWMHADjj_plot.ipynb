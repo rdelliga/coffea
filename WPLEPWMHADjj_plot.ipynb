{
 "cells": [
  {
   "cell_type": "code",
   "execution_count": 6,
   "metadata": {},
   "outputs": [],
   "source": [
    "import uproot\n",
    "import awkward as ak #The events object is an awkward array\n",
    "## Plotting.\n",
    "import matplotlib.pyplot as plt\n",
    "\n",
    "# Hists\n",
    "import hist\n",
    "from hist import Hist\n",
    "\n",
    "# NanoEvents\n",
    "from coffea.nanoevents import NanoEventsFactory, NanoAODSchema\n",
    "# Processors\n",
    "#import coffea.processor as processor\n",
    "\n",
    "#File to read\n",
    "fname='WPLEPWMHADjj_4f_EWK_UL2018-NANOAODSIMv9.root'\n",
    "\n",
    "#Define the events\n",
    "events = NanoEventsFactory.from_root(\n",
    "    fname,\n",
    "    schemaclass=NanoAODSchema,\n",
    ").events()"
   ]
  },
  {
   "cell_type": "code",
   "execution_count": 19,
   "metadata": {},
   "outputs": [
    {
     "data": {
      "text/plain": [
       "['fixedGridRhoFastjetAll',\n",
       " 'genWeight',\n",
       " 'genTtbarId',\n",
       " 'event',\n",
       " 'GenPart',\n",
       " 'SoftActivityJetNjets2',\n",
       " 'ChsMET',\n",
       " 'L1',\n",
       " 'GenIsolatedPhoton',\n",
       " 'PSWeight',\n",
       " 'LHE',\n",
       " 'Muon',\n",
       " 'FsrPhoton',\n",
       " 'SoftActivityJetHT10',\n",
       " 'PV',\n",
       " 'Photon',\n",
       " 'LHEScaleWeight',\n",
       " 'SoftActivityJet',\n",
       " 'SubJet',\n",
       " 'DeepMETResolutionTune',\n",
       " 'SV',\n",
       " 'DeepMETResponseTune',\n",
       " 'LHEPdfWeight',\n",
       " 'SoftActivityJetHT5',\n",
       " 'LHEReweightingWeight',\n",
       " 'LHEPart',\n",
       " 'HTXS',\n",
       " 'boostedTau',\n",
       " 'Flag',\n",
       " 'IsoTrack',\n",
       " 'LowPtElectron',\n",
       " 'OtherPV',\n",
       " 'GenDressedLepton',\n",
       " 'SoftActivityJetNjets10',\n",
       " 'fixedGridRhoFastjetCentralNeutral',\n",
       " 'luminosityBlock',\n",
       " 'GenVisTau',\n",
       " 'PuppiMET',\n",
       " 'GenVtx',\n",
       " 'fixedGridRhoFastjetCentral',\n",
       " 'CorrT1METJet',\n",
       " 'TkMET',\n",
       " 'L1simulation',\n",
       " 'run',\n",
       " 'TrigObj',\n",
       " 'RawPuppiMET',\n",
       " 'SoftActivityJetNjets5',\n",
       " 'RawMET',\n",
       " 'fixedGridRhoFastjetCentralCalo',\n",
       " 'fixedGridRhoFastjetCentralChargedPileUp',\n",
       " 'MET',\n",
       " 'HLT',\n",
       " 'GenJetAK8',\n",
       " 'LHEWeight',\n",
       " 'HLTriggerFirstPath',\n",
       " 'GenJet',\n",
       " 'Generator',\n",
       " 'CaloMET',\n",
       " 'SubGenJetAK8',\n",
       " 'Tau',\n",
       " 'HLTriggerFinalPath',\n",
       " 'FatJet',\n",
       " 'L1Reco',\n",
       " 'GenMET',\n",
       " 'SoftActivityJetHT2',\n",
       " 'Jet',\n",
       " 'Electron',\n",
       " 'btagWeight',\n",
       " 'L1PreFiringWeight',\n",
       " 'Pileup',\n",
       " 'SoftActivityJetHT']"
      ]
     },
     "execution_count": 19,
     "metadata": {},
     "output_type": "execute_result"
    }
   ],
   "source": [
    "#List the branches of the root file \n",
    "ak.fields(events)"
   ]
  },
  {
   "cell_type": "code",
   "execution_count": 23,
   "metadata": {},
   "outputs": [
    {
     "data": {
      "text/plain": [
       "['area',\n",
       " 'btagCSVV2',\n",
       " 'btagDeepB',\n",
       " 'btagDeepCvB',\n",
       " 'btagDeepCvL',\n",
       " 'btagDeepFlavB',\n",
       " 'btagDeepFlavCvB',\n",
       " 'btagDeepFlavCvL',\n",
       " 'btagDeepFlavQG',\n",
       " 'chEmEF',\n",
       " 'chFPV0EF',\n",
       " 'chHEF',\n",
       " 'eta',\n",
       " 'hfsigmaEtaEta',\n",
       " 'hfsigmaPhiPhi',\n",
       " 'mass',\n",
       " 'muEF',\n",
       " 'muonSubtrFactor',\n",
       " 'neEmEF',\n",
       " 'neHEF',\n",
       " 'phi',\n",
       " 'pt',\n",
       " 'puIdDisc',\n",
       " 'qgl',\n",
       " 'rawFactor',\n",
       " 'bRegCorr',\n",
       " 'bRegRes',\n",
       " 'cRegCorr',\n",
       " 'cRegRes',\n",
       " 'electronIdx1',\n",
       " 'electronIdx2',\n",
       " 'hfadjacentEtaStripsSize',\n",
       " 'hfcentralEtaStripSize',\n",
       " 'jetId',\n",
       " 'muonIdx1',\n",
       " 'muonIdx2',\n",
       " 'nElectrons',\n",
       " 'nMuons',\n",
       " 'puId',\n",
       " 'nConstituents',\n",
       " 'genJetIdx',\n",
       " 'hadronFlavour',\n",
       " 'partonFlavour',\n",
       " 'cleanmask',\n",
       " 'electronIdx1G',\n",
       " 'electronIdx2G',\n",
       " 'genJetIdxG',\n",
       " 'muonIdx1G',\n",
       " 'muonIdx2G',\n",
       " 'muonIdxG',\n",
       " 'electronIdxG']"
      ]
     },
     "execution_count": 23,
     "metadata": {},
     "output_type": "execute_result"
    }
   ],
   "source": [
    "#List the metods of the branches\n",
    "ak.fields(events.Jet)"
   ]
  },
  {
   "cell_type": "code",
   "execution_count": 10,
   "metadata": {},
   "outputs": [
    {
     "data": {
      "text/plain": [
       "Text(0.5, 1.0, 'MET distribution')"
      ]
     },
     "execution_count": 10,
     "metadata": {},
     "output_type": "execute_result"
    },
    {
     "data": {
      "image/png": "[encoded data removed]",
      "text/plain": [
       "<Figure size 432x288 with 1 Axes>"
      ]
     },
     "metadata": {
      "needs_background": "light"
     },
     "output_type": "display_data"
    }
   ],
   "source": [
    "#Take the MET and plot its histogram\n",
    "MET = events.MET.pt\n",
    "plt.hist(MET, bins=20, range=[0,500], label=\"$E_{T}^{miss}$ [GeV]\")\n",
    "plt.xlabel(\"$E_{T}^{miss}$ [GeV]\")\n",
    "plt.ylabel(\"counts\")\n",
    "plt.title(\"MET distribution\")\n",
    "#plt.legend()\n",
    "\n",
    "#Make histogram\n",
    "#MET_hist=hist.Hist.new.Reg(20, 0, 500, name=\"MET\", label=\"$E_{T}^{miss}$ [GeV]\")\n",
    "#Fill and plot histogram\n",
    "#MET_hist.Double().fill(MET).plot1d()"
   ]
  },
  {
   "cell_type": "code",
   "execution_count": 11,
   "metadata": {},
   "outputs": [
    {
     "data": {
      "text/plain": [
       "Text(0.5, 1.0, 'muon $p_{T}$ distribution')"
      ]
     },
     "execution_count": 11,
     "metadata": {},
     "output_type": "execute_result"
    },
    {
     "data": {
      "image/png": "[encoded data removed]",
      "text/plain": [
       "<Figure size 432x288 with 1 Axes>"
      ]
     },
     "metadata": {
      "needs_background": "light"
     },
     "output_type": "display_data"
    }
   ],
   "source": [
    "#Take the muon pt and plot its histogram\n",
    "muonpt = events.Muon.pt\n",
    "plt.hist(ak.flatten(muonpt), bins=20, range=[0,100], label=\"$p_{T}^{\\mu}$ [GeV]\")\n",
    "#previous line: you have to flatten the awkward array because its size is ambiguous due to variable-length arrays \n",
    "plt.xlabel(\"$p_{T}^{\\mu}$ [GeV]\")\n",
    "plt.ylabel(\"counts\")\n",
    "plt.title(\"muon $p_{T}$ distribution\")\n",
    "#plt.legend()\n"
   ]
  },
  {
   "cell_type": "code",
   "execution_count": 12,
   "metadata": {},
   "outputs": [
    {
     "data": {
      "text/plain": [
       "Text(0.5, 1.0, 'electron $p_{T}$ distribution')"
      ]
     },
     "execution_count": 12,
     "metadata": {},
     "output_type": "execute_result"
    },
    {
     "data": {
      "image/png": "[encoded data removed]",
      "text/plain": [
       "<Figure size 432x288 with 1 Axes>"
      ]
     },
     "metadata": {
      "needs_background": "light"
     },
     "output_type": "display_data"
    }
   ],
   "source": [
    "#Take the electron pt and plot its histogram\n",
    "ept = events.Electron.pt\n",
    "plt.hist(ak.flatten(ept), bins=20, range=[0,50], label=\"$p_{T}^{e}$ [GeV]\")\n",
    "#previous line: you have to flatten the awkward array because its size is ambiguous due to variable-length arrays\n",
    "plt.xlabel(\"$p_{T}^{e}$ [GeV]\")\n",
    "plt.ylabel(\"counts\")\n",
    "plt.title(\"electron $p_{T}$ distribution\")\n",
    "#plt.legend()"
   ]
  },
  {
   "cell_type": "code",
   "execution_count": 13,
   "metadata": {},
   "outputs": [
    {
     "data": {
      "text/plain": [
       "Text(0.5, 1.0, 'jet $p_{T}$ distribution')"
      ]
     },
     "execution_count": 13,
     "metadata": {},
     "output_type": "execute_result"
    },
    {
     "data": {
      "image/png": "[encoded data removed]",
      "text/plain": [
       "<Figure size 432x288 with 1 Axes>"
      ]
     },
     "metadata": {
      "needs_background": "light"
     },
     "output_type": "display_data"
    }
   ],
   "source": [
    "#Take the jet pt and plot its histogram\n",
    "jpt = events.Jet.pt\n",
    "plt.hist(ak.flatten(jpt), bins=50, range=[0,150], label=\"$p_{T}^{jet}$ [GeV]\")\n",
    "#previous line: you have to flatten the awkward array because its size is ambiguous due to variable-length arrays\n",
    "plt.xlabel(\"$p_{T}^{jet}$ [GeV]\")\n",
    "plt.ylabel(\"counts\")\n",
    "plt.title(\"jet $p_{T}$ distribution\")\n",
    "#plt.legend()"
   ]
  },
  {
   "cell_type": "code",
   "execution_count": 14,
   "metadata": {
    "scrolled": true
   },
   "outputs": [
    {
     "data": {
      "text/plain": [
       "Text(0.5, 1.0, 'jet pseudorapidity distribution')"
      ]
     },
     "execution_count": 14,
     "metadata": {},
     "output_type": "execute_result"
    },
    {
     "data": {
      "image/png": "[encoded data removed]",
      "text/plain": [
       "<Figure size 432x288 with 1 Axes>"
      ]
     },
     "metadata": {
      "needs_background": "light"
     },
     "output_type": "display_data"
    }
   ],
   "source": [
    "#Take the jet pseudorapidity and plot its histogram\n",
    "jeta = events.Jet.eta\n",
    "plt.hist(ak.flatten(jeta), bins=20, range=[-5,5], label=\"$\\eta^{j}$ [GeV]\")\n",
    "#previous line: you have to flatten the awkward array because its size is ambiguous due to variable-length arrays\n",
    "plt.xlabel(\"$\\eta^{jet}$\")\n",
    "plt.ylabel(\"counts\")\n",
    "plt.title(\"jet pseudorapidity distribution\")\n",
    "#plt.legend()"
   ]
  },
  {
   "cell_type": "code",
   "execution_count": 15,
   "metadata": {},
   "outputs": [
    {
     "data": {
      "text/plain": [
       "Text(0.5, 1.0, 'jet mass distribution')"
      ]
     },
     "execution_count": 15,
     "metadata": {},
     "output_type": "execute_result"
    },
    {
     "data": {
      "image/png": "[encoded data removed]",
      "text/plain": [
       "<Figure size 432x288 with 1 Axes>"
      ]
     },
     "metadata": {
      "needs_background": "light"
     },
     "output_type": "display_data"
    }
   ],
   "source": [
    "#Take the jet mass and plot its histogram\n",
    "jm = events.Jet.mass\n",
    "plt.hist(ak.flatten(jm), bins=40, range=[0,50], label=\"$m^{j}$ [GeV]\")\n",
    "#previous line: you have to flatten the awkward array because its size is ambiguous due to variable-length arrays\n",
    "plt.xlabel(\"$m^{jet}$ [GeV]\")\n",
    "plt.ylabel(\"counts\")\n",
    "plt.title(\"jet mass distribution\")\n",
    "#plt.legend()"
   ]
  },
  {
   "cell_type": "code",
   "execution_count": 20,
   "metadata": {},
   "outputs": [
    {
     "data": {
      "text/plain": [
       "Text(0.5, 1.0, 'genjet $p_{T}$ distribution')"
      ]
     },
     "execution_count": 20,
     "metadata": {},
     "output_type": "execute_result"
    },
    {
     "data": {
      "image/png": "[encoded data removed]",
      "text/plain": [
       "<Figure size 432x288 with 1 Axes>"
      ]
     },
     "metadata": {
      "needs_background": "light"
     },
     "output_type": "display_data"
    }
   ],
   "source": [
    "#Take the genjet pt and plot its histogram\n",
    "gjpt = events.GenJet.pt\n",
    "plt.hist(ak.flatten(gjpt), bins=50, range=[0,150], label=\"$p_{T}^{jet}$ [GeV]\")\n",
    "#previous line: you have to flatten the awkward array because its size is ambiguous due to variable-length arrays\n",
    "plt.xlabel(\"$p_{T}^{jet}$ [GeV]\")\n",
    "plt.ylabel(\"counts\")\n",
    "plt.title(\"genjet $p_{T}$ distribution\")\n",
    "#plt.legend()"
   ]
  },
  {
   "cell_type": "code",
   "execution_count": 21,
   "metadata": {},
   "outputs": [
    {
     "data": {
      "text/plain": [
       "Text(0.5, 1.0, 'genjet pseudorapidity distribution')"
      ]
     },
     "execution_count": 21,
     "metadata": {},
     "output_type": "execute_result"
    },
    {
     "data": {
      "image/png": "[encoded data removed]",
      "text/plain": [
       "<Figure size 432x288 with 1 Axes>"
      ]
     },
     "metadata": {
      "needs_background": "light"
     },
     "output_type": "display_data"
    }
   ],
   "source": [
    "#Take the genjet pseudorapidity and plot its histogram\n",
    "gjeta = events.GenJet.eta\n",
    "plt.hist(ak.flatten(gjeta), bins=20, range=[-5,5], label=\"$\\eta^{j}$ [GeV]\")\n",
    "#previous line: you have to flatten the awkward array because its size is ambiguous due to variable-length arrays\n",
    "plt.xlabel(\"$\\eta^{jet}$\")\n",
    "plt.ylabel(\"counts\")\n",
    "plt.title(\"genjet pseudorapidity distribution\")\n",
    "#plt.legend()"
   ]
  },
  {
   "cell_type": "code",
   "execution_count": 22,
   "metadata": {},
   "outputs": [
    {
     "data": {
      "text/plain": [
       "Text(0.5, 1.0, 'genjet mass distribution')"
      ]
     },
     "execution_count": 22,
     "metadata": {},
     "output_type": "execute_result"
    },
    {
     "data": {
      "image/png": "[encoded data removed]",
      "text/plain": [
       "<Figure size 432x288 with 1 Axes>"
      ]
     },
     "metadata": {
      "needs_background": "light"
     },
     "output_type": "display_data"
    }
   ],
   "source": [
    "#Take the genjet mass and plot its histogram\n",
    "gjm = events.GenJet.mass\n",
    "plt.hist(ak.flatten(gjm), bins=40, range=[0,50], label=\"$m^{j}$ [GeV]\")\n",
    "#previous line: you have to flatten the awkward array because its size is ambiguous due to variable-length arrays\n",
    "plt.xlabel(\"$m^{jet}$ [GeV]\")\n",
    "plt.ylabel(\"counts\")\n",
    "plt.title(\"genjet mass distribution\")\n",
    "#plt.legend()"
   ]
  },
  {
   "cell_type": "code",
   "execution_count": 16,
   "metadata": {},
   "outputs": [
    {
     "data": {
      "text/plain": [
       "Text(0.5, 1.0, 'GenJetAK8 mass distribution')"
      ]
     },
     "execution_count": 16,
     "metadata": {},
     "output_type": "execute_result"
    },
    {
     "data": {
      "image/png": "[encoded data removed]",
      "text/plain": [
       "<Figure size 432x288 with 1 Axes>"
      ]
     },
     "metadata": {
      "needs_background": "light"
     },
     "output_type": "display_data"
    }
   ],
   "source": [
    "#Take the GenJetAK8 mass and plot its histogram\n",
    "gjm = events.GenJetAK8.mass\n",
    "plt.hist(ak.flatten(gjm), bins=40, range=[0,150], label=\"$m^{j}$ [GeV]\")\n",
    "#previous line: you have to flatten the awkward array because its size is ambiguous due to variable-length arrays\n",
    "plt.xlabel(\"$m^{jet}$ [GeV]\")\n",
    "plt.ylabel(\"counts\")\n",
    "plt.title(\"GenJetAK8 mass distribution\")\n",
    "#plt.legend()"
   ]
  },
  {
   "cell_type": "code",
   "execution_count": 17,
   "metadata": {},
   "outputs": [
    {
     "data": {
      "text/plain": [
       "Text(0.5, 1.0, 'fatjet mass distribution')"
      ]
     },
     "execution_count": 17,
     "metadata": {},
     "output_type": "execute_result"
    },
    {
     "data": {
      "image/png": "[encoded data removed]",
      "text/plain": [
       "<Figure size 432x288 with 1 Axes>"
      ]
     },
     "metadata": {
      "needs_background": "light"
     },
     "output_type": "display_data"
    }
   ],
   "source": [
    "#Take the fatjet mass and plot its histogram\n",
    "fjm = events.FatJet.mass\n",
    "plt.hist(ak.flatten(fjm), bins=40, range=[0,150], label=\"$m^{j}$ [GeV]\")\n",
    "#previous line: you have to flatten the awkward array because its size is ambiguous due to variable-length arrays\n",
    "plt.xlabel(\"$m^{jet}$ [GeV]\")\n",
    "plt.ylabel(\"counts\")\n",
    "plt.title(\"fatjet mass distribution\")\n",
    "#plt.legend()"
   ]
  },
  {
   "cell_type": "code",
   "execution_count": 299,
   "metadata": {},
   "outputs": [],
   "source": [
    "#Take all the jets \n",
    "jets = events.Jet\n",
    "\n",
    "#Take the the jets with leading pT\n",
    "jets_l = events.Jet[:,0]\n",
    "#previous line: it means, for all the events, take the first jet\n",
    "#print(events.Jet.pt[:,1])\n",
    "#plt.hist(jets_l.pt, bins=50, range=[0,150], label=\"$p_{T}^{jet}$ [GeV]\")\n",
    "\n",
    "#Take the the jets with subleading pT\n",
    "jets_sub = events.Jet[:,1]\n",
    "#plt.hist(ak.flatten(jets_subleading.pt), bins=50, range=[0,150], label=\"$p_{T}^{jet}$ [GeV]\")"
   ]
  },
  {
   "cell_type": "code",
   "execution_count": 301,
   "metadata": {},
   "outputs": [
    {
     "data": {
      "text/plain": [
       "(array([ 6., 17., 34., 33., 42., 44., 43., 34., 37., 36., 24., 29., 14.,\n",
       "        22., 12., 11., 11., 11.,  5.,  3.,  7.,  3.,  3.,  3.,  3.,  0.,\n",
       "         0.,  4.,  1.,  3.,  1.,  0.,  1.,  1.,  0.,  1.,  0.,  0.,  0.,\n",
       "         0.]),\n",
       " array([   0.,  125.,  250.,  375.,  500.,  625.,  750.,  875., 1000.,\n",
       "        1125., 1250., 1375., 1500., 1625., 1750., 1875., 2000., 2125.,\n",
       "        2250., 2375., 2500., 2625., 2750., 2875., 3000., 3125., 3250.,\n",
       "        3375., 3500., 3625., 3750., 3875., 4000., 4125., 4250., 4375.,\n",
       "        4500., 4625., 4750., 4875., 5000.], dtype=float32),\n",
       " <a list of 40 Patch objects>)"
      ]
     },
     "execution_count": 301,
     "metadata": {},
     "output_type": "execute_result"
    },
    {
     "data": {
      "image/png": "[encoded data removed]",
      "text/plain": [
       "<Figure size 432x288 with 1 Axes>"
      ]
     },
     "metadata": {
      "needs_background": "light"
     },
     "output_type": "display_data"
    }
   ],
   "source": [
    "# Get all combinations of jet pairs in every event\n",
    "dijets = ak.combinations(jets, 2, fields=['i0', 'i1'])\n",
    "#print(dijets)\n",
    "#dijets.type\n",
    "\n",
    "# Check that jet pairs have the greatest mass\n",
    "ismax=(dijets['i0']+dijets['i1']).mass==ak.max((dijets['i0']+dijets['i1']).mass, axis=1)\n",
    "#previous line: returns a Boolean array with True where the condition is met, and false otherwise\n",
    "\n",
    "# Mask the dijets with the ismax to get dijets with the gratest mass\n",
    "good_dijets = dijets[ismax]\n",
    "\n",
    "# Separate pairs into arrays of the first and the second jet in each pair.\n",
    "first_jet, second_jet = ak.unzip(massmax_jetpair)\n",
    "\n",
    "# Compute difference in pseudorapidity\n",
    "delta_eta = first_jet.eta - second_jet.eta\n",
    "#plt.hist(ak.flatten(delta), bins=20, range=[-5,5], label=\"$\\delta\\eta^{jj}$\")\n",
    "plt.hist(ak.flatten((first_jet+second_jet).mass), bins=40, range=[0,5000], label=\"$m^{jj}$ [GeV]\")"
   ]
  },
  {
   "cell_type": "code",
   "execution_count": null,
   "metadata": {},
   "outputs": [],
   "source": []
  }
 ],
 "metadata": {
  "kernelspec": {
   "display_name": "coffea_kernel",
   "language": "python",
   "name": "coffea_kernel"
  },
  "language_info": {
   "codemirror_mode": {
    "name": "ipython",
    "version": 3
   },
   "file_extension": ".py",
   "mimetype": "text/x-python",
   "name": "python",
   "nbconvert_exporter": "python",
   "pygments_lexer": "ipython3",
   "version": "3.6.8"
  }
 },
 "nbformat": 4,
 "nbformat_minor": 4
}
