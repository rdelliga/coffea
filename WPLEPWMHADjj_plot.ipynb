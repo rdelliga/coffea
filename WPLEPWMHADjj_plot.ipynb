{
 "cells": [
  {
   "cell_type": "code",
   "execution_count": 22,
   "metadata": {},
   "outputs": [],
   "source": [
    "import time\n",
    "\n",
    "import awkward as ak\n",
    "import hist\n",
    "import matplotlib.pyplot as plt\n",
    "import numpy as np\n",
    "from coffea import processor\n",
    "\n",
    "# The opendata files are non-standard NanoAOD, so some optional data columns are missing\n",
    "#processor.NanoAODSchema.warn_missing_crossrefs = False\n",
    "\n",
    "\n",
    "def run(query, chunksize=2**19, workers=24):\n",
    "    tic = time.monotonic()\n",
    "    output, metrics = processor.run_uproot_job(\n",
    "        fileset={\"WPLEPWMHADjj\": [\"WPLEPWMHADjj_4f_EWK_UL2018-NANOAODSIMv9.root\"]},\n",
    "        treename=\"Events\",\n",
    "        processor_instance=query(),\n",
    "        executor=processor.futures_executor,\n",
    "        executor_args={\n",
    "            \"workers\": workers,\n",
    "            \"schema\": processor.NanoAODSchema,\n",
    "            \"savemetrics\": True,\n",
    "            \"status\": False,\n",
    "        },\n",
    "        chunksize=chunksize,\n",
    "    )\n",
    "    toc = time.monotonic()\n",
    "    metrics[\"query\"] = query.__name__\n",
    "    metrics[\"chunksize\"] = chunksize\n",
    "    metrics[\"workers\"] = workers\n",
    "    metrics[\"walltime\"] = toc - tic\n",
    "    return output, metrics"
   ]
  },
  {
   "cell_type": "markdown",
   "metadata": {},
   "source": [
    "Plot the MET of all events"
   ]
  },
  {
   "cell_type": "code",
   "execution_count": 25,
   "metadata": {},
   "outputs": [
    {
     "data": {
      "text/html": [
       "<pre style=\"white-space:pre;overflow-x:auto;line-height:normal;font-family:Menlo,'DejaVu Sans Mono',consolas,'Courier New',monospace\"></pre>\n"
      ],
      "text/plain": []
     },
     "metadata": {},
     "output_type": "display_data"
    },
    {
     "data": {
      "text/html": [
       "<pre style=\"white-space:pre;overflow-x:auto;line-height:normal;font-family:Menlo,'DejaVu Sans Mono',consolas,'Courier New',monospace\">\n",
       "</pre>\n"
      ],
      "text/plain": [
       "\n"
      ]
     },
     "metadata": {},
     "output_type": "display_data"
    },
    {
     "data": {
      "text/plain": [
       "{'bytesread': 58147,\n",
       " 'columns': ['MET_pt'],\n",
       " 'entries': 500,\n",
       " 'processtime': 0.024514198303222656,\n",
       " 'chunks': 1,\n",
       " 'query': 'Q1Processor',\n",
       " 'chunksize': 524288,\n",
       " 'workers': 24,\n",
       " 'walltime': 2.8331981729716063}"
      ]
     },
     "execution_count": 25,
     "metadata": {},
     "output_type": "execute_result"
    },
    {
     "data": {
      "image/png": "[encoded data removed]",
      "text/plain": [
       "<Figure size 720x720 with 1 Axes>"
      ]
     },
     "metadata": {
      "needs_background": "light"
     },
     "output_type": "display_data"
    }
   ],
   "source": [
    "class Q1Processor(processor.ProcessorABC):\n",
    "    def process(self, events):\n",
    "        return (\n",
    "            hist.Hist.new.Reg(20, 0, 200, name=\"met\", label=\"$E_{T}^{miss}$ [GeV]\")\n",
    "            .Double()\n",
    "            .fill(events.MET.pt)\n",
    "        )\n",
    "\n",
    "    def postprocess(self, accumulator):\n",
    "        return accumulator\n",
    "\n",
    "\n",
    "out, metrics = run(Q1Processor)\n",
    "out.plot1d()\n",
    "metrics"
   ]
  },
  {
   "cell_type": "code",
   "execution_count": 16,
   "metadata": {},
   "outputs": [],
   "source": [
    "#import awkward as ak\n",
    "#import uproot\n",
    "from matplotlib import pyplot as plt\n",
    "from coffea.nanoevents import NanoEventsFactory, NanoAODSchema\n",
    "\n",
    "fname='WPLEPWMHADjj_4f_EWK_UL2018-NANOAODSIMv9.root'\n",
    "events = NanoEventsFactory.from_root(fname, schemaclass=NanoAODSchema).events()"
   ]
  },
  {
   "cell_type": "code",
   "execution_count": null,
   "metadata": {},
   "outputs": [],
   "source": []
  },
  {
   "cell_type": "code",
   "execution_count": null,
   "metadata": {},
   "outputs": [],
   "source": []
  }
 ],
 "metadata": {
  "kernelspec": {
   "display_name": "coffea_kernel",
   "language": "python",
   "name": "coffea_kernel"
  },
  "language_info": {
   "codemirror_mode": {
    "name": "ipython",
    "version": 3
   },
   "file_extension": ".py",
   "mimetype": "text/x-python",
   "name": "python",
   "nbconvert_exporter": "python",
   "pygments_lexer": "ipython3",
   "version": "3.6.8"
  }
 },
 "nbformat": 4,
 "nbformat_minor": 4
}
